{
 "cells": [
  {
   "cell_type": "code",
   "execution_count": null,
   "id": "740bd50a-8c42-4332-9748-86d94e525428",
   "metadata": {},
   "outputs": [],
   "source": [
    "import json"
   ]
  },
  {
   "cell_type": "code",
   "execution_count": 5,
   "id": "efcf535b-5661-4a2b-9e79-a35eb30f1faa",
   "metadata": {},
   "outputs": [],
   "source": [
    "import json\n",
    "\n",
    "def create_new_prompts(input_file, output_file):\n",
    "    \"\"\"\n",
    "    Reads the GSM8K JSONL file, creates new prompt strings,\n",
    "    extracts the final answer from the answer field,\n",
    "    converts it to float, and writes the list of dicts to an output JSON file.\n",
    "    \n",
    "    Each dict has two keys:\n",
    "      - \"prompt\": a string in the format \"Q: {question}\\nA: \"\n",
    "      - \"answer\": the final answer extracted from the answer field (as a float)\n",
    "    \n",
    "    The final answer is assumed to be the part of the answer string after \"####\".\n",
    "    \n",
    "    Args:\n",
    "        input_file (str): Path to the GSM8K testing dataset in JSONL format.\n",
    "        output_file (str): Path to save the new list of prompt-answer dicts.\n",
    "    \"\"\"\n",
    "    new_entries = []\n",
    "    \n",
    "    # Open and read the dataset line by line\n",
    "    with open(input_file, 'r') as f:\n",
    "        for line in f:\n",
    "            data = json.loads(line)\n",
    "            # Extract the question and answer strings\n",
    "            prompt_text = data.get(\"question\")\n",
    "            answer_text = data.get(\"answer\")\n",
    "            if prompt_text and answer_text:\n",
    "                # Extract the final answer part after \"####\"\n",
    "                if \"####\" in answer_text:\n",
    "                    final_answer_str = answer_text.split(\"####\")[-1].strip()\n",
    "                else:\n",
    "                    final_answer_str = answer_text.strip()\n",
    "                \n",
    "                try:\n",
    "                    # Convert the extracted answer to float\n",
    "                    final_answer_float = float(final_answer_str)\n",
    "                except ValueError:\n",
    "                    # Skip this entry if conversion fails\n",
    "                    continue\n",
    "                \n",
    "                entry = {\n",
    "                    \"prompt\": \"Q: \" + prompt_text + \"\\nA: \",\n",
    "                    \"answer\": final_answer_float\n",
    "                }\n",
    "                new_entries.append(entry)\n",
    "    \n",
    "    # Save the list of prompt-answer dicts to a JSON file\n",
    "    with open(output_file, 'w') as f:\n",
    "        json.dump(new_entries, f, indent=2)\n",
    "    \n",
    "    print(f\"Saved {len(new_entries)} new prompt-answer entries to {output_file}\")\n"
   ]
  },
  {
   "cell_type": "code",
   "execution_count": 6,
   "id": "48ac2372-7a7e-484d-a861-fb971bf8e89b",
   "metadata": {},
   "outputs": [],
   "source": [
    "def load_prompts(file_path):\n",
    "    \"\"\"\n",
    "    Loads the list of prompt strings from a JSON file.\n",
    "    \n",
    "    Args:\n",
    "        file_path (str): Path to the JSON file containing the prompt strings.\n",
    "    \n",
    "    Returns:\n",
    "        list: The list of prompt strings.\n",
    "    \"\"\"\n",
    "    with open(file_path, 'r') as f:\n",
    "        prompts = json.load(f)\n",
    "    return prompts"
   ]
  },
  {
   "cell_type": "code",
   "execution_count": 7,
   "id": "9fbf52a1-3830-4fbe-8e16-ee418ee6724c",
   "metadata": {},
   "outputs": [
    {
     "name": "stdout",
     "output_type": "stream",
     "text": [
      "Saved 1305 new prompt-answer entries to Processed_Prompts.json\n"
     ]
    }
   ],
   "source": [
    "# Paths to the input and output files\n",
    "input_file = \"Raw_Dataset.json\"   # Ensure this file exists in your working directory.\n",
    "output_file = \"Processed_Prompts.json\"\n",
    "\n",
    "# Create new prompts and save to a file\n",
    "create_new_prompts(input_file, output_file)"
   ]
  },
  {
   "cell_type": "code",
   "execution_count": 8,
   "id": "9f8739d9-3ad5-4267-8c9f-7d7c25967ef0",
   "metadata": {},
   "outputs": [
    {
     "name": "stdout",
     "output_type": "stream",
     "text": [
      "Loaded 1305 prompts from Processed_Prompts.json\n"
     ]
    }
   ],
   "source": [
    "# Load back the list to verify\n",
    "loaded_prompts = load_prompts(output_file)\n",
    "print(f\"Loaded {len(loaded_prompts)} prompts from {output_file}\")"
   ]
  }
 ],
 "metadata": {
  "kernelspec": {
   "display_name": "venv",
   "language": "python",
   "name": "python3"
  },
  "language_info": {
   "codemirror_mode": {
    "name": "ipython",
    "version": 3
   },
   "file_extension": ".py",
   "mimetype": "text/x-python",
   "name": "python",
   "nbconvert_exporter": "python",
   "pygments_lexer": "ipython3",
   "version": "3.12.0"
  }
 },
 "nbformat": 4,
 "nbformat_minor": 5
}
