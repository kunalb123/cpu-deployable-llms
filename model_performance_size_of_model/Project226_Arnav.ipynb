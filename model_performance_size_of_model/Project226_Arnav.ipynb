{
 "cells": [
  {
   "cell_type": "code",
   "execution_count": 1,
   "id": "33109e31-2607-4861-8a80-78e840ef1192",
   "metadata": {},
   "outputs": [
    {
     "name": "stdout",
     "output_type": "stream",
     "text": [
      "Requirement already satisfied: llama-cpp-python in /opt/anaconda3/lib/python3.11/site-packages (0.3.7)\n",
      "Requirement already satisfied: typing-extensions>=4.5.0 in /opt/anaconda3/lib/python3.11/site-packages (from llama-cpp-python) (4.11.0)\n",
      "Requirement already satisfied: numpy>=1.20.0 in /opt/anaconda3/lib/python3.11/site-packages (from llama-cpp-python) (1.26.4)\n",
      "Requirement already satisfied: diskcache>=5.6.1 in /opt/anaconda3/lib/python3.11/site-packages (from llama-cpp-python) (5.6.3)\n",
      "Requirement already satisfied: jinja2>=2.11.3 in /opt/anaconda3/lib/python3.11/site-packages (from llama-cpp-python) (3.1.3)\n",
      "Requirement already satisfied: MarkupSafe>=2.0 in /opt/anaconda3/lib/python3.11/site-packages (from jinja2>=2.11.3->llama-cpp-python) (2.1.3)\n"
     ]
    }
   ],
   "source": [
    "!pip install llama-cpp-python"
   ]
  },
  {
   "cell_type": "code",
   "execution_count": 2,
   "id": "3eaa3fd3-7dfe-4228-bd5e-917f11047ddc",
   "metadata": {},
   "outputs": [
    {
     "name": "stdout",
     "output_type": "stream",
     "text": [
      "Requirement already satisfied: datasets in /opt/anaconda3/lib/python3.11/site-packages (3.3.2)\n",
      "Requirement already satisfied: filelock in /opt/anaconda3/lib/python3.11/site-packages (from datasets) (3.13.1)\n",
      "Requirement already satisfied: numpy>=1.17 in /opt/anaconda3/lib/python3.11/site-packages (from datasets) (1.26.4)\n",
      "Requirement already satisfied: pyarrow>=15.0.0 in /opt/anaconda3/lib/python3.11/site-packages (from datasets) (19.0.1)\n",
      "Requirement already satisfied: dill<0.3.9,>=0.3.0 in /opt/anaconda3/lib/python3.11/site-packages (from datasets) (0.3.8)\n",
      "Requirement already satisfied: pandas in /opt/anaconda3/lib/python3.11/site-packages (from datasets) (2.2.2)\n",
      "Requirement already satisfied: requests>=2.32.2 in /opt/anaconda3/lib/python3.11/site-packages (from datasets) (2.32.3)\n",
      "Requirement already satisfied: tqdm>=4.66.3 in /opt/anaconda3/lib/python3.11/site-packages (from datasets) (4.67.1)\n",
      "Requirement already satisfied: xxhash in /opt/anaconda3/lib/python3.11/site-packages (from datasets) (3.5.0)\n",
      "Requirement already satisfied: multiprocess<0.70.17 in /opt/anaconda3/lib/python3.11/site-packages (from datasets) (0.70.16)\n",
      "Requirement already satisfied: fsspec<=2024.12.0,>=2023.1.0 in /opt/anaconda3/lib/python3.11/site-packages (from fsspec[http]<=2024.12.0,>=2023.1.0->datasets) (2023.10.0)\n",
      "Requirement already satisfied: aiohttp in /opt/anaconda3/lib/python3.11/site-packages (from datasets) (3.9.3)\n",
      "Requirement already satisfied: huggingface-hub>=0.24.0 in /opt/anaconda3/lib/python3.11/site-packages (from datasets) (0.29.2)\n",
      "Requirement already satisfied: packaging in /opt/anaconda3/lib/python3.11/site-packages (from datasets) (23.1)\n",
      "Requirement already satisfied: pyyaml>=5.1 in /opt/anaconda3/lib/python3.11/site-packages (from datasets) (6.0.1)\n",
      "Requirement already satisfied: aiosignal>=1.1.2 in /opt/anaconda3/lib/python3.11/site-packages (from aiohttp->datasets) (1.2.0)\n",
      "Requirement already satisfied: attrs>=17.3.0 in /opt/anaconda3/lib/python3.11/site-packages (from aiohttp->datasets) (23.1.0)\n",
      "Requirement already satisfied: frozenlist>=1.1.1 in /opt/anaconda3/lib/python3.11/site-packages (from aiohttp->datasets) (1.4.0)\n",
      "Requirement already satisfied: multidict<7.0,>=4.5 in /opt/anaconda3/lib/python3.11/site-packages (from aiohttp->datasets) (6.0.4)\n",
      "Requirement already satisfied: yarl<2.0,>=1.0 in /opt/anaconda3/lib/python3.11/site-packages (from aiohttp->datasets) (1.9.3)\n",
      "Requirement already satisfied: typing-extensions>=3.7.4.3 in /opt/anaconda3/lib/python3.11/site-packages (from huggingface-hub>=0.24.0->datasets) (4.11.0)\n",
      "Requirement already satisfied: charset-normalizer<4,>=2 in /opt/anaconda3/lib/python3.11/site-packages (from requests>=2.32.2->datasets) (2.0.4)\n",
      "Requirement already satisfied: idna<4,>=2.5 in /opt/anaconda3/lib/python3.11/site-packages (from requests>=2.32.2->datasets) (3.4)\n",
      "Requirement already satisfied: urllib3<3,>=1.21.1 in /opt/anaconda3/lib/python3.11/site-packages (from requests>=2.32.2->datasets) (2.0.7)\n",
      "Requirement already satisfied: certifi>=2017.4.17 in /opt/anaconda3/lib/python3.11/site-packages (from requests>=2.32.2->datasets) (2024.8.30)\n",
      "Requirement already satisfied: python-dateutil>=2.8.2 in /opt/anaconda3/lib/python3.11/site-packages (from pandas->datasets) (2.8.2)\n",
      "Requirement already satisfied: pytz>=2020.1 in /opt/anaconda3/lib/python3.11/site-packages (from pandas->datasets) (2023.3.post1)\n",
      "Requirement already satisfied: tzdata>=2022.7 in /opt/anaconda3/lib/python3.11/site-packages (from pandas->datasets) (2023.3)\n",
      "Requirement already satisfied: six>=1.5 in /opt/anaconda3/lib/python3.11/site-packages (from python-dateutil>=2.8.2->pandas->datasets) (1.16.0)\n"
     ]
    }
   ],
   "source": [
    "!pip install datasets"
   ]
  },
  {
   "cell_type": "code",
   "execution_count": 3,
   "id": "09cb46f8-98bb-4146-9ef4-bd37d040c4da",
   "metadata": {},
   "outputs": [
    {
     "name": "stdout",
     "output_type": "stream",
     "text": [
      "Requirement already satisfied: jupyterlab in /opt/anaconda3/lib/python3.11/site-packages (4.3.5)\n",
      "Requirement already satisfied: ipywidgets in /opt/anaconda3/lib/python3.11/site-packages (8.1.5)\n",
      "Requirement already satisfied: jupyterlab-widgets in /opt/anaconda3/lib/python3.11/site-packages (3.0.13)\n",
      "Requirement already satisfied: async-lru>=1.0.0 in /opt/anaconda3/lib/python3.11/site-packages (from jupyterlab) (2.0.4)\n",
      "Requirement already satisfied: httpx>=0.25.0 in /opt/anaconda3/lib/python3.11/site-packages (from jupyterlab) (0.28.1)\n",
      "Requirement already satisfied: ipykernel>=6.5.0 in /opt/anaconda3/lib/python3.11/site-packages (from jupyterlab) (6.28.0)\n",
      "Requirement already satisfied: jinja2>=3.0.3 in /opt/anaconda3/lib/python3.11/site-packages (from jupyterlab) (3.1.3)\n",
      "Requirement already satisfied: jupyter-core in /opt/anaconda3/lib/python3.11/site-packages (from jupyterlab) (5.5.0)\n",
      "Requirement already satisfied: jupyter-lsp>=2.0.0 in /opt/anaconda3/lib/python3.11/site-packages (from jupyterlab) (2.2.0)\n",
      "Requirement already satisfied: jupyter-server<3,>=2.4.0 in /opt/anaconda3/lib/python3.11/site-packages (from jupyterlab) (2.10.0)\n",
      "Requirement already satisfied: jupyterlab-server<3,>=2.27.1 in /opt/anaconda3/lib/python3.11/site-packages (from jupyterlab) (2.27.3)\n",
      "Requirement already satisfied: notebook-shim>=0.2 in /opt/anaconda3/lib/python3.11/site-packages (from jupyterlab) (0.2.3)\n",
      "Requirement already satisfied: packaging in /opt/anaconda3/lib/python3.11/site-packages (from jupyterlab) (23.1)\n",
      "Requirement already satisfied: setuptools>=40.8.0 in /opt/anaconda3/lib/python3.11/site-packages (from jupyterlab) (68.2.2)\n",
      "Requirement already satisfied: tornado>=6.2.0 in /opt/anaconda3/lib/python3.11/site-packages (from jupyterlab) (6.3.3)\n",
      "Requirement already satisfied: traitlets in /opt/anaconda3/lib/python3.11/site-packages (from jupyterlab) (5.7.1)\n",
      "Requirement already satisfied: comm>=0.1.3 in /opt/anaconda3/lib/python3.11/site-packages (from ipywidgets) (0.2.2)\n",
      "Requirement already satisfied: ipython>=6.1.0 in /opt/anaconda3/lib/python3.11/site-packages (from ipywidgets) (8.20.0)\n",
      "Requirement already satisfied: widgetsnbextension~=4.0.12 in /opt/anaconda3/lib/python3.11/site-packages (from ipywidgets) (4.0.13)\n",
      "Requirement already satisfied: anyio in /opt/anaconda3/lib/python3.11/site-packages (from httpx>=0.25.0->jupyterlab) (4.2.0)\n",
      "Requirement already satisfied: certifi in /opt/anaconda3/lib/python3.11/site-packages (from httpx>=0.25.0->jupyterlab) (2024.8.30)\n",
      "Requirement already satisfied: httpcore==1.* in /opt/anaconda3/lib/python3.11/site-packages (from httpx>=0.25.0->jupyterlab) (1.0.7)\n",
      "Requirement already satisfied: idna in /opt/anaconda3/lib/python3.11/site-packages (from httpx>=0.25.0->jupyterlab) (3.4)\n",
      "Requirement already satisfied: h11<0.15,>=0.13 in /opt/anaconda3/lib/python3.11/site-packages (from httpcore==1.*->httpx>=0.25.0->jupyterlab) (0.14.0)\n",
      "Requirement already satisfied: appnope in /opt/anaconda3/lib/python3.11/site-packages (from ipykernel>=6.5.0->jupyterlab) (0.1.2)\n",
      "Requirement already satisfied: debugpy>=1.6.5 in /opt/anaconda3/lib/python3.11/site-packages (from ipykernel>=6.5.0->jupyterlab) (1.6.7)\n",
      "Requirement already satisfied: jupyter-client>=6.1.12 in /opt/anaconda3/lib/python3.11/site-packages (from ipykernel>=6.5.0->jupyterlab) (8.6.0)\n",
      "Requirement already satisfied: matplotlib-inline>=0.1 in /opt/anaconda3/lib/python3.11/site-packages (from ipykernel>=6.5.0->jupyterlab) (0.1.6)\n",
      "Requirement already satisfied: nest-asyncio in /opt/anaconda3/lib/python3.11/site-packages (from ipykernel>=6.5.0->jupyterlab) (1.6.0)\n",
      "Requirement already satisfied: psutil in /opt/anaconda3/lib/python3.11/site-packages (from ipykernel>=6.5.0->jupyterlab) (5.9.0)\n",
      "Requirement already satisfied: pyzmq>=24 in /opt/anaconda3/lib/python3.11/site-packages (from ipykernel>=6.5.0->jupyterlab) (25.1.2)\n",
      "Requirement already satisfied: decorator in /opt/anaconda3/lib/python3.11/site-packages (from ipython>=6.1.0->ipywidgets) (5.1.1)\n",
      "Requirement already satisfied: jedi>=0.16 in /opt/anaconda3/lib/python3.11/site-packages (from ipython>=6.1.0->ipywidgets) (0.18.1)\n",
      "Requirement already satisfied: prompt-toolkit<3.1.0,>=3.0.41 in /opt/anaconda3/lib/python3.11/site-packages (from ipython>=6.1.0->ipywidgets) (3.0.43)\n",
      "Requirement already satisfied: pygments>=2.4.0 in /opt/anaconda3/lib/python3.11/site-packages (from ipython>=6.1.0->ipywidgets) (2.15.1)\n",
      "Requirement already satisfied: stack-data in /opt/anaconda3/lib/python3.11/site-packages (from ipython>=6.1.0->ipywidgets) (0.2.0)\n",
      "Requirement already satisfied: pexpect>4.3 in /opt/anaconda3/lib/python3.11/site-packages (from ipython>=6.1.0->ipywidgets) (4.8.0)\n",
      "Requirement already satisfied: MarkupSafe>=2.0 in /opt/anaconda3/lib/python3.11/site-packages (from jinja2>=3.0.3->jupyterlab) (2.1.3)\n",
      "Requirement already satisfied: platformdirs>=2.5 in /opt/anaconda3/lib/python3.11/site-packages (from jupyter-core->jupyterlab) (3.10.0)\n",
      "Requirement already satisfied: argon2-cffi in /opt/anaconda3/lib/python3.11/site-packages (from jupyter-server<3,>=2.4.0->jupyterlab) (21.3.0)\n",
      "Requirement already satisfied: jupyter-events>=0.6.0 in /opt/anaconda3/lib/python3.11/site-packages (from jupyter-server<3,>=2.4.0->jupyterlab) (0.8.0)\n",
      "Requirement already satisfied: jupyter-server-terminals in /opt/anaconda3/lib/python3.11/site-packages (from jupyter-server<3,>=2.4.0->jupyterlab) (0.4.4)\n",
      "Requirement already satisfied: nbconvert>=6.4.4 in /opt/anaconda3/lib/python3.11/site-packages (from jupyter-server<3,>=2.4.0->jupyterlab) (7.10.0)\n",
      "Requirement already satisfied: nbformat>=5.3.0 in /opt/anaconda3/lib/python3.11/site-packages (from jupyter-server<3,>=2.4.0->jupyterlab) (5.9.2)\n",
      "Requirement already satisfied: overrides in /opt/anaconda3/lib/python3.11/site-packages (from jupyter-server<3,>=2.4.0->jupyterlab) (7.4.0)\n",
      "Requirement already satisfied: prometheus-client in /opt/anaconda3/lib/python3.11/site-packages (from jupyter-server<3,>=2.4.0->jupyterlab) (0.14.1)\n",
      "Requirement already satisfied: send2trash>=1.8.2 in /opt/anaconda3/lib/python3.11/site-packages (from jupyter-server<3,>=2.4.0->jupyterlab) (1.8.2)\n",
      "Requirement already satisfied: terminado>=0.8.3 in /opt/anaconda3/lib/python3.11/site-packages (from jupyter-server<3,>=2.4.0->jupyterlab) (0.17.1)\n",
      "Requirement already satisfied: websocket-client in /opt/anaconda3/lib/python3.11/site-packages (from jupyter-server<3,>=2.4.0->jupyterlab) (0.58.0)\n",
      "Requirement already satisfied: babel>=2.10 in /opt/anaconda3/lib/python3.11/site-packages (from jupyterlab-server<3,>=2.27.1->jupyterlab) (2.11.0)\n",
      "Requirement already satisfied: json5>=0.9.0 in /opt/anaconda3/lib/python3.11/site-packages (from jupyterlab-server<3,>=2.27.1->jupyterlab) (0.9.6)\n",
      "Requirement already satisfied: jsonschema>=4.18.0 in /opt/anaconda3/lib/python3.11/site-packages (from jupyterlab-server<3,>=2.27.1->jupyterlab) (4.19.2)\n",
      "Requirement already satisfied: requests>=2.31 in /opt/anaconda3/lib/python3.11/site-packages (from jupyterlab-server<3,>=2.27.1->jupyterlab) (2.32.3)\n",
      "Requirement already satisfied: sniffio>=1.1 in /opt/anaconda3/lib/python3.11/site-packages (from anyio->httpx>=0.25.0->jupyterlab) (1.3.0)\n",
      "Requirement already satisfied: pytz>=2015.7 in /opt/anaconda3/lib/python3.11/site-packages (from babel>=2.10->jupyterlab-server<3,>=2.27.1->jupyterlab) (2023.3.post1)\n",
      "Requirement already satisfied: parso<0.9.0,>=0.8.0 in /opt/anaconda3/lib/python3.11/site-packages (from jedi>=0.16->ipython>=6.1.0->ipywidgets) (0.8.3)\n",
      "Requirement already satisfied: attrs>=22.2.0 in /opt/anaconda3/lib/python3.11/site-packages (from jsonschema>=4.18.0->jupyterlab-server<3,>=2.27.1->jupyterlab) (23.1.0)\n",
      "Requirement already satisfied: jsonschema-specifications>=2023.03.6 in /opt/anaconda3/lib/python3.11/site-packages (from jsonschema>=4.18.0->jupyterlab-server<3,>=2.27.1->jupyterlab) (2023.7.1)\n",
      "Requirement already satisfied: referencing>=0.28.4 in /opt/anaconda3/lib/python3.11/site-packages (from jsonschema>=4.18.0->jupyterlab-server<3,>=2.27.1->jupyterlab) (0.30.2)\n",
      "Requirement already satisfied: rpds-py>=0.7.1 in /opt/anaconda3/lib/python3.11/site-packages (from jsonschema>=4.18.0->jupyterlab-server<3,>=2.27.1->jupyterlab) (0.10.6)\n",
      "Requirement already satisfied: python-dateutil>=2.8.2 in /opt/anaconda3/lib/python3.11/site-packages (from jupyter-client>=6.1.12->ipykernel>=6.5.0->jupyterlab) (2.8.2)\n",
      "Requirement already satisfied: python-json-logger>=2.0.4 in /opt/anaconda3/lib/python3.11/site-packages (from jupyter-events>=0.6.0->jupyter-server<3,>=2.4.0->jupyterlab) (2.0.7)\n",
      "Requirement already satisfied: pyyaml>=5.3 in /opt/anaconda3/lib/python3.11/site-packages (from jupyter-events>=0.6.0->jupyter-server<3,>=2.4.0->jupyterlab) (6.0.1)\n",
      "Requirement already satisfied: rfc3339-validator in /opt/anaconda3/lib/python3.11/site-packages (from jupyter-events>=0.6.0->jupyter-server<3,>=2.4.0->jupyterlab) (0.1.4)\n",
      "Requirement already satisfied: rfc3986-validator>=0.1.1 in /opt/anaconda3/lib/python3.11/site-packages (from jupyter-events>=0.6.0->jupyter-server<3,>=2.4.0->jupyterlab) (0.1.1)\n",
      "Requirement already satisfied: beautifulsoup4 in /opt/anaconda3/lib/python3.11/site-packages (from nbconvert>=6.4.4->jupyter-server<3,>=2.4.0->jupyterlab) (4.12.2)\n",
      "Requirement already satisfied: bleach!=5.0.0 in /opt/anaconda3/lib/python3.11/site-packages (from nbconvert>=6.4.4->jupyter-server<3,>=2.4.0->jupyterlab) (4.1.0)\n",
      "Requirement already satisfied: defusedxml in /opt/anaconda3/lib/python3.11/site-packages (from nbconvert>=6.4.4->jupyter-server<3,>=2.4.0->jupyterlab) (0.7.1)\n",
      "Requirement already satisfied: jupyterlab-pygments in /opt/anaconda3/lib/python3.11/site-packages (from nbconvert>=6.4.4->jupyter-server<3,>=2.4.0->jupyterlab) (0.1.2)\n",
      "Requirement already satisfied: mistune<4,>=2.0.3 in /opt/anaconda3/lib/python3.11/site-packages (from nbconvert>=6.4.4->jupyter-server<3,>=2.4.0->jupyterlab) (3.0.2)\n",
      "Requirement already satisfied: nbclient>=0.5.0 in /opt/anaconda3/lib/python3.11/site-packages (from nbconvert>=6.4.4->jupyter-server<3,>=2.4.0->jupyterlab) (0.8.0)\n",
      "Requirement already satisfied: pandocfilters>=1.4.1 in /opt/anaconda3/lib/python3.11/site-packages (from nbconvert>=6.4.4->jupyter-server<3,>=2.4.0->jupyterlab) (1.5.0)\n",
      "Requirement already satisfied: tinycss2 in /opt/anaconda3/lib/python3.11/site-packages (from nbconvert>=6.4.4->jupyter-server<3,>=2.4.0->jupyterlab) (1.2.1)\n",
      "Requirement already satisfied: fastjsonschema in /opt/anaconda3/lib/python3.11/site-packages (from nbformat>=5.3.0->jupyter-server<3,>=2.4.0->jupyterlab) (2.16.2)\n",
      "Requirement already satisfied: ptyprocess>=0.5 in /opt/anaconda3/lib/python3.11/site-packages (from pexpect>4.3->ipython>=6.1.0->ipywidgets) (0.7.0)\n",
      "Requirement already satisfied: wcwidth in /opt/anaconda3/lib/python3.11/site-packages (from prompt-toolkit<3.1.0,>=3.0.41->ipython>=6.1.0->ipywidgets) (0.1.9)\n",
      "Requirement already satisfied: charset-normalizer<4,>=2 in /opt/anaconda3/lib/python3.11/site-packages (from requests>=2.31->jupyterlab-server<3,>=2.27.1->jupyterlab) (2.0.4)\n",
      "Requirement already satisfied: urllib3<3,>=1.21.1 in /opt/anaconda3/lib/python3.11/site-packages (from requests>=2.31->jupyterlab-server<3,>=2.27.1->jupyterlab) (2.0.7)\n",
      "Requirement already satisfied: argon2-cffi-bindings in /opt/anaconda3/lib/python3.11/site-packages (from argon2-cffi->jupyter-server<3,>=2.4.0->jupyterlab) (21.2.0)\n",
      "Requirement already satisfied: executing in /opt/anaconda3/lib/python3.11/site-packages (from stack-data->ipython>=6.1.0->ipywidgets) (0.8.3)\n",
      "Requirement already satisfied: asttokens in /opt/anaconda3/lib/python3.11/site-packages (from stack-data->ipython>=6.1.0->ipywidgets) (2.0.5)\n",
      "Requirement already satisfied: pure-eval in /opt/anaconda3/lib/python3.11/site-packages (from stack-data->ipython>=6.1.0->ipywidgets) (0.2.2)\n",
      "Requirement already satisfied: six in /opt/anaconda3/lib/python3.11/site-packages (from websocket-client->jupyter-server<3,>=2.4.0->jupyterlab) (1.16.0)\n",
      "Requirement already satisfied: webencodings in /opt/anaconda3/lib/python3.11/site-packages (from bleach!=5.0.0->nbconvert>=6.4.4->jupyter-server<3,>=2.4.0->jupyterlab) (0.5.1)\n",
      "Requirement already satisfied: fqdn in /opt/anaconda3/lib/python3.11/site-packages (from jsonschema[format-nongpl]>=4.18.0->jupyter-events>=0.6.0->jupyter-server<3,>=2.4.0->jupyterlab) (1.5.1)\n",
      "Requirement already satisfied: isoduration in /opt/anaconda3/lib/python3.11/site-packages (from jsonschema[format-nongpl]>=4.18.0->jupyter-events>=0.6.0->jupyter-server<3,>=2.4.0->jupyterlab) (20.11.0)\n",
      "Requirement already satisfied: jsonpointer>1.13 in /opt/anaconda3/lib/python3.11/site-packages (from jsonschema[format-nongpl]>=4.18.0->jupyter-events>=0.6.0->jupyter-server<3,>=2.4.0->jupyterlab) (2.1)\n",
      "Requirement already satisfied: uri-template in /opt/anaconda3/lib/python3.11/site-packages (from jsonschema[format-nongpl]>=4.18.0->jupyter-events>=0.6.0->jupyter-server<3,>=2.4.0->jupyterlab) (1.3.0)\n",
      "Requirement already satisfied: webcolors>=1.11 in /opt/anaconda3/lib/python3.11/site-packages (from jsonschema[format-nongpl]>=4.18.0->jupyter-events>=0.6.0->jupyter-server<3,>=2.4.0->jupyterlab) (24.11.1)\n",
      "Requirement already satisfied: cffi>=1.0.1 in /opt/anaconda3/lib/python3.11/site-packages (from argon2-cffi-bindings->argon2-cffi->jupyter-server<3,>=2.4.0->jupyterlab) (1.16.0)\n",
      "Requirement already satisfied: soupsieve>1.2 in /opt/anaconda3/lib/python3.11/site-packages (from beautifulsoup4->nbconvert>=6.4.4->jupyter-server<3,>=2.4.0->jupyterlab) (2.5)\n",
      "Requirement already satisfied: pycparser in /opt/anaconda3/lib/python3.11/site-packages (from cffi>=1.0.1->argon2-cffi-bindings->argon2-cffi->jupyter-server<3,>=2.4.0->jupyterlab) (2.21)\n",
      "Requirement already satisfied: arrow>=0.15.0 in /opt/anaconda3/lib/python3.11/site-packages (from isoduration->jsonschema[format-nongpl]>=4.18.0->jupyter-events>=0.6.0->jupyter-server<3,>=2.4.0->jupyterlab) (1.2.3)\n"
     ]
    }
   ],
   "source": [
    "!pip install -U jupyterlab ipywidgets jupyterlab-widgets"
   ]
  },
  {
   "cell_type": "code",
   "execution_count": 39,
   "id": "a403b54a-83af-4cfb-9182-201667a0286f",
   "metadata": {},
   "outputs": [
    {
     "data": {
      "application/vnd.jupyter.widget-view+json": {
       "model_id": "50e31f91dae84381b15c797ae49786ff",
       "version_major": 2,
       "version_minor": 0
      },
      "text/plain": [
       "VBox(children=(HTML(value='<center> <img\\nsrc=https://huggingface.co/front/assets/huggingface_logo-noborder.sv…"
      ]
     },
     "metadata": {},
     "output_type": "display_data"
    }
   ],
   "source": [
    "from huggingface_hub import notebook_login\n",
    "notebook_login()"
   ]
  },
  {
   "cell_type": "code",
   "execution_count": 40,
   "id": "ae1cd3ae-205a-4073-a851-c10cc0f20a8d",
   "metadata": {},
   "outputs": [
    {
     "name": "stdout",
     "output_type": "stream",
     "text": [
      "arnavk2001\n"
     ]
    }
   ],
   "source": [
    "!huggingface-cli whoami"
   ]
  },
  {
   "cell_type": "code",
   "execution_count": 41,
   "id": "1034a78a-283e-4ef8-a0bb-3dc5ef5be898",
   "metadata": {},
   "outputs": [
    {
     "name": "stdout",
     "output_type": "stream",
     "text": [
      "Requirement already satisfied: transformers in /opt/anaconda3/lib/python3.11/site-packages (4.49.0)\n",
      "Requirement already satisfied: filelock in /opt/anaconda3/lib/python3.11/site-packages (from transformers) (3.13.1)\n",
      "Requirement already satisfied: huggingface-hub<1.0,>=0.26.0 in /opt/anaconda3/lib/python3.11/site-packages (from transformers) (0.29.2)\n",
      "Requirement already satisfied: numpy>=1.17 in /opt/anaconda3/lib/python3.11/site-packages (from transformers) (1.26.4)\n",
      "Requirement already satisfied: packaging>=20.0 in /opt/anaconda3/lib/python3.11/site-packages (from transformers) (23.1)\n",
      "Requirement already satisfied: pyyaml>=5.1 in /opt/anaconda3/lib/python3.11/site-packages (from transformers) (6.0.1)\n",
      "Requirement already satisfied: regex!=2019.12.17 in /opt/anaconda3/lib/python3.11/site-packages (from transformers) (2023.10.3)\n",
      "Requirement already satisfied: requests in /opt/anaconda3/lib/python3.11/site-packages (from transformers) (2.32.3)\n",
      "Requirement already satisfied: tokenizers<0.22,>=0.21 in /opt/anaconda3/lib/python3.11/site-packages (from transformers) (0.21.0)\n",
      "Requirement already satisfied: safetensors>=0.4.1 in /opt/anaconda3/lib/python3.11/site-packages (from transformers) (0.5.3)\n",
      "Requirement already satisfied: tqdm>=4.27 in /opt/anaconda3/lib/python3.11/site-packages (from transformers) (4.67.1)\n",
      "Requirement already satisfied: fsspec>=2023.5.0 in /opt/anaconda3/lib/python3.11/site-packages (from huggingface-hub<1.0,>=0.26.0->transformers) (2023.10.0)\n",
      "Requirement already satisfied: typing-extensions>=3.7.4.3 in /opt/anaconda3/lib/python3.11/site-packages (from huggingface-hub<1.0,>=0.26.0->transformers) (4.11.0)\n",
      "Requirement already satisfied: charset-normalizer<4,>=2 in /opt/anaconda3/lib/python3.11/site-packages (from requests->transformers) (2.0.4)\n",
      "Requirement already satisfied: idna<4,>=2.5 in /opt/anaconda3/lib/python3.11/site-packages (from requests->transformers) (3.4)\n",
      "Requirement already satisfied: urllib3<3,>=1.21.1 in /opt/anaconda3/lib/python3.11/site-packages (from requests->transformers) (2.0.7)\n",
      "Requirement already satisfied: certifi>=2017.4.17 in /opt/anaconda3/lib/python3.11/site-packages (from requests->transformers) (2024.8.30)\n"
     ]
    }
   ],
   "source": [
    "!pip install transformers"
   ]
  },
  {
   "cell_type": "code",
   "execution_count": 42,
   "id": "882c1c6b-9b7a-4939-913f-c38418ded2bf",
   "metadata": {},
   "outputs": [],
   "source": [
    "from llama_cpp import Llama"
   ]
  },
  {
   "cell_type": "code",
   "execution_count": 101,
   "id": "4253c093-c004-40b9-ad14-536fa9856c68",
   "metadata": {},
   "outputs": [],
   "source": [
    "import time\n",
    "import torch\n",
    "from transformers import AutoTokenizer\n",
    "from huggingface_hub import hf_hub_download\n",
    "import psutil"
   ]
  },
  {
   "cell_type": "code",
   "execution_count": 110,
   "id": "8421af38-ebce-4d09-acfe-ae176120dafc",
   "metadata": {},
   "outputs": [],
   "source": [
    "class CPUModel:\n",
    "    def __init__(self, args):\n",
    "        \"\"\"Initialize the model.\"\"\"\n",
    "        model_path = hf_hub_download(repo_id=args[\"repo_id\"], filename=args[\"filename\"])\n",
    "        self.model = Llama(model_path=model_path, verbose=False)\n",
    "        self.tokenizer = AutoTokenizer.from_pretrained(\"meta-llama/Meta-Llama-3-8B\", use_auth_token=args.get(\"auth\"))\n",
    "\n",
    "    def get_response(self, args):\n",
    "        \"\"\"Generate response from the model.\"\"\"\n",
    "        return self.model(args[\"input_text\"], max_tokens=args.get(\"max_tokens\", 100))\n",
    "\n",
    "    def get_text_response(self, args):\n",
    "        \"\"\"Extract text response from model output.\"\"\"\n",
    "        output = self.get_response(args)\n",
    "        return output['choices'][0]['text']\n",
    "\n",
    "    def evaluate(self, args):\n",
    "        \"\"\"Measure accuracy, latency, throughput, and RAM usage.\"\"\"\n",
    "        torch.cuda.empty_cache()\n",
    "        start_time = time.time()\n",
    "        \n",
    "        output_text = self.get_text_response(args)\n",
    "        latency = time.time() - start_time\n",
    "\n",
    "        # Get initial RAM usage\n",
    "        process = psutil.Process()\n",
    "        \n",
    "        # Get peak RAM usage after execution\n",
    "        max_ram = process.memory_info().rss / (1024 ** 3)  # Convert to GB\n",
    "        \n",
    "        # Tokenize the output for accurate measurement\n",
    "        tokenized_output = self.tokenizer(output_text)\n",
    "        tokens_generated = len(tokenized_output['input_ids'])\n",
    "        \n",
    "        # Simulating accuracy calculation (this should be replaced with a real benchmark)\n",
    "        accuracy = tokens_generated / len(args[\"prompt\"].split())  # Placeholder metric\n",
    "        \n",
    "        # Throughput calculation (tokens per second)\n",
    "        throughput = tokens_generated / latency\n",
    "        \n",
    "        return {\n",
    "            \"latency\": latency,\n",
    "            \"throughput\": throughput,\n",
    "            \"max_ram\": max_ram,\n",
    "            \"accuracy\": accuracy\n",
    "        }"
   ]
  },
  {
   "cell_type": "code",
   "execution_count": 135,
   "id": "043fcb21-44b9-4f1f-b4e9-83f574c4cd99",
   "metadata": {},
   "outputs": [],
   "source": [
    "    models = [\n",
    "        {\"repo_id\": \"MaziyarPanahi/Llama-3.2-1B-Instruct-GGUF\", \"filename\": \"Llama-3.2-1B-Instruct.Q4_K_M.gguf\"},\n",
    "        {\"repo_id\": \"bartowski/Llama-3.2-3B-Instruct-GGUF\", \"filename\": \"Llama-3.2-3B-Instruct-Q4_K_M.gguf\"},\n",
    "        {\"repo_id\": \"bartowski/Meta-Llama-3.1-8B-Instruct-GGUF\", \"filename\": \"Meta-Llama-3.1-8B-Instruct-Q4_K_M.gguf\"},\n",
    "        {\"repo_id\": \"Qwen/Qwen2-1.5B-Instruct-GGUF\", \"filename\": \"qwen2-1_5b-instruct-q4_k_m.gguf\"},\n",
    "        {\"repo_id\": \"Qwen/Qwen2-7B-Instruct-GGUF\", \"filename\": \"qwen2-7b-instruct-q4_k_m.gguf\"}\n",
    "    ]"
   ]
  },
  {
   "cell_type": "code",
   "execution_count": null,
   "id": "66c08578-0d05-43b4-837a-13cea3d13d41",
   "metadata": {},
   "outputs": [
    {
     "name": "stdout",
     "output_type": "stream",
     "text": [
      "\n",
      "Testing model: MaziyarPanahi/Llama-3.2-1B-Instruct-GGUF\n"
     ]
    },
    {
     "name": "stderr",
     "output_type": "stream",
     "text": [
      "llama_init_from_model: n_ctx_per_seq (512) < n_ctx_train (131072) -- the full capacity of the model will not be utilized\n",
      "ggml_metal_init: skipping kernel_get_rows_bf16                     (not supported)\n",
      "ggml_metal_init: skipping kernel_mul_mv_bf16_f32                   (not supported)\n",
      "ggml_metal_init: skipping kernel_mul_mv_bf16_f32_1row              (not supported)\n",
      "ggml_metal_init: skipping kernel_mul_mv_bf16_f32_l4                (not supported)\n",
      "ggml_metal_init: skipping kernel_mul_mv_bf16_bf16                  (not supported)\n",
      "ggml_metal_init: skipping kernel_mul_mv_id_bf16_f32                (not supported)\n",
      "ggml_metal_init: skipping kernel_mul_mm_bf16_f32                   (not supported)\n",
      "ggml_metal_init: skipping kernel_mul_mm_id_bf16_f32                (not supported)\n",
      "ggml_metal_init: skipping kernel_flash_attn_ext_bf16_h64           (not supported)\n",
      "ggml_metal_init: skipping kernel_flash_attn_ext_bf16_h80           (not supported)\n",
      "ggml_metal_init: skipping kernel_flash_attn_ext_bf16_h96           (not supported)\n",
      "ggml_metal_init: skipping kernel_flash_attn_ext_bf16_h112          (not supported)\n",
      "ggml_metal_init: skipping kernel_flash_attn_ext_bf16_h128          (not supported)\n",
      "ggml_metal_init: skipping kernel_flash_attn_ext_bf16_h256          (not supported)\n",
      "ggml_metal_init: skipping kernel_flash_attn_ext_vec_bf16_h128      (not supported)\n",
      "ggml_metal_init: skipping kernel_flash_attn_ext_vec_bf16_h256      (not supported)\n",
      "ggml_metal_init: skipping kernel_cpy_f32_bf16                      (not supported)\n",
      "ggml_metal_init: skipping kernel_cpy_bf16_f32                      (not supported)\n",
      "ggml_metal_init: skipping kernel_cpy_bf16_bf16                     (not supported)\n"
     ]
    },
    {
     "name": "stdout",
     "output_type": "stream",
     "text": [
      "  Running with max tokens: 50\n",
      "{'latency': 1.021738052368164, 'throughput': 16.638315427910058, 'max_ram': 1.1270599365234375, 'accuracy': 2.8333333333333335}\n",
      "  Running with max tokens: 100\n",
      "{'latency': 0.2308661937713623, 'throughput': 73.63572692169865, 'max_ram': 1.12896728515625, 'accuracy': 2.8333333333333335}\n",
      "  Running with max tokens: 250\n",
      "{'latency': 0.23482012748718262, 'throughput': 72.39583838880219, 'max_ram': 1.130523681640625, 'accuracy': 2.8333333333333335}\n",
      "  Running with max tokens: 500\n",
      "{'latency': 0.2342391014099121, 'throughput': 72.57541502539517, 'max_ram': 1.13055419921875, 'accuracy': 2.8333333333333335}\n",
      "  Running with max tokens: 1000\n",
      "{'latency': 0.2314600944519043, 'throughput': 73.4467858930753, 'max_ram': 1.13055419921875, 'accuracy': 2.8333333333333335}\n",
      "\n",
      "Testing model: bartowski/Llama-3.2-3B-Instruct-GGUF\n"
     ]
    },
    {
     "name": "stderr",
     "output_type": "stream",
     "text": [
      "llama_init_from_model: n_ctx_per_seq (512) < n_ctx_train (131072) -- the full capacity of the model will not be utilized\n",
      "ggml_metal_init: skipping kernel_get_rows_bf16                     (not supported)\n",
      "ggml_metal_init: skipping kernel_mul_mv_bf16_f32                   (not supported)\n",
      "ggml_metal_init: skipping kernel_mul_mv_bf16_f32_1row              (not supported)\n",
      "ggml_metal_init: skipping kernel_mul_mv_bf16_f32_l4                (not supported)\n",
      "ggml_metal_init: skipping kernel_mul_mv_bf16_bf16                  (not supported)\n",
      "ggml_metal_init: skipping kernel_mul_mv_id_bf16_f32                (not supported)\n",
      "ggml_metal_init: skipping kernel_mul_mm_bf16_f32                   (not supported)\n",
      "ggml_metal_init: skipping kernel_mul_mm_id_bf16_f32                (not supported)\n",
      "ggml_metal_init: skipping kernel_flash_attn_ext_bf16_h64           (not supported)\n",
      "ggml_metal_init: skipping kernel_flash_attn_ext_bf16_h80           (not supported)\n",
      "ggml_metal_init: skipping kernel_flash_attn_ext_bf16_h96           (not supported)\n",
      "ggml_metal_init: skipping kernel_flash_attn_ext_bf16_h112          (not supported)\n",
      "ggml_metal_init: skipping kernel_flash_attn_ext_bf16_h128          (not supported)\n",
      "ggml_metal_init: skipping kernel_flash_attn_ext_bf16_h256          (not supported)\n",
      "ggml_metal_init: skipping kernel_flash_attn_ext_vec_bf16_h128      (not supported)\n",
      "ggml_metal_init: skipping kernel_flash_attn_ext_vec_bf16_h256      (not supported)\n",
      "ggml_metal_init: skipping kernel_cpy_f32_bf16                      (not supported)\n",
      "ggml_metal_init: skipping kernel_cpy_bf16_f32                      (not supported)\n",
      "ggml_metal_init: skipping kernel_cpy_bf16_bf16                     (not supported)\n"
     ]
    },
    {
     "name": "stdout",
     "output_type": "stream",
     "text": [
      "  Running with max tokens: 50\n",
      "{'latency': 2.2254068851470947, 'throughput': 7.63905248674394, 'max_ram': 2.161407470703125, 'accuracy': 2.8333333333333335}\n",
      "  Running with max tokens: 100\n",
      "{'latency': 0.5209472179412842, 'throughput': 32.632864548507996, 'max_ram': 2.161895751953125, 'accuracy': 2.8333333333333335}\n",
      "  Running with max tokens: 250\n",
      "{'latency': 0.5021388530731201, 'throughput': 33.855177499129915, 'max_ram': 2.16192626953125, 'accuracy': 2.8333333333333335}\n",
      "  Running with max tokens: 500\n",
      "{'latency': 0.48175692558288574, 'throughput': 35.287505165455414, 'max_ram': 2.161773681640625, 'accuracy': 2.8333333333333335}\n",
      "  Running with max tokens: 1000\n",
      "{'latency': 0.48558902740478516, 'throughput': 35.00902829467945, 'max_ram': 2.161773681640625, 'accuracy': 2.8333333333333335}\n",
      "\n",
      "Testing model: bartowski/Meta-Llama-3.1-8B-Instruct-GGUF\n"
     ]
    },
    {
     "name": "stderr",
     "output_type": "stream",
     "text": [
      "llama_init_from_model: n_ctx_per_seq (512) < n_ctx_train (131072) -- the full capacity of the model will not be utilized\n",
      "ggml_metal_init: skipping kernel_get_rows_bf16                     (not supported)\n",
      "ggml_metal_init: skipping kernel_mul_mv_bf16_f32                   (not supported)\n",
      "ggml_metal_init: skipping kernel_mul_mv_bf16_f32_1row              (not supported)\n",
      "ggml_metal_init: skipping kernel_mul_mv_bf16_f32_l4                (not supported)\n",
      "ggml_metal_init: skipping kernel_mul_mv_bf16_bf16                  (not supported)\n",
      "ggml_metal_init: skipping kernel_mul_mv_id_bf16_f32                (not supported)\n",
      "ggml_metal_init: skipping kernel_mul_mm_bf16_f32                   (not supported)\n",
      "ggml_metal_init: skipping kernel_mul_mm_id_bf16_f32                (not supported)\n",
      "ggml_metal_init: skipping kernel_flash_attn_ext_bf16_h64           (not supported)\n",
      "ggml_metal_init: skipping kernel_flash_attn_ext_bf16_h80           (not supported)\n",
      "ggml_metal_init: skipping kernel_flash_attn_ext_bf16_h96           (not supported)\n",
      "ggml_metal_init: skipping kernel_flash_attn_ext_bf16_h112          (not supported)\n",
      "ggml_metal_init: skipping kernel_flash_attn_ext_bf16_h128          (not supported)\n",
      "ggml_metal_init: skipping kernel_flash_attn_ext_bf16_h256          (not supported)\n",
      "ggml_metal_init: skipping kernel_flash_attn_ext_vec_bf16_h128      (not supported)\n",
      "ggml_metal_init: skipping kernel_flash_attn_ext_vec_bf16_h256      (not supported)\n",
      "ggml_metal_init: skipping kernel_cpy_f32_bf16                      (not supported)\n",
      "ggml_metal_init: skipping kernel_cpy_bf16_f32                      (not supported)\n",
      "ggml_metal_init: skipping kernel_cpy_bf16_bf16                     (not supported)\n"
     ]
    },
    {
     "name": "stdout",
     "output_type": "stream",
     "text": [
      "  Running with max tokens: 50\n",
      "{'latency': 4.635629892349243, 'throughput': 3.667247039729642, 'max_ram': 4.4509124755859375, 'accuracy': 2.8333333333333335}\n",
      "  Running with max tokens: 100\n",
      "{'latency': 1.0599491596221924, 'throughput': 16.03850509779117, 'max_ram': 4.4394378662109375, 'accuracy': 2.8333333333333335}\n",
      "  Running with max tokens: 250\n",
      "{'latency': 1.0653948783874512, 'throughput': 15.956524988866734, 'max_ram': 4.4354705810546875, 'accuracy': 2.8333333333333335}\n",
      "  Running with max tokens: 500\n",
      "{'latency': 1.2351281642913818, 'throughput': 13.7637538285375, 'max_ram': 4.4061737060546875, 'accuracy': 2.8333333333333335}\n",
      "  Running with max tokens: 1000\n",
      "{'latency': 0.9801740646362305, 'throughput': 17.343858211866856, 'max_ram': 4.4109039306640625, 'accuracy': 2.8333333333333335}\n",
      "\n",
      "Testing model: Qwen/Qwen2-1.5B-Instruct-GGUF\n"
     ]
    },
    {
     "name": "stderr",
     "output_type": "stream",
     "text": [
      "llama_init_from_model: n_ctx_per_seq (512) < n_ctx_train (32768) -- the full capacity of the model will not be utilized\n",
      "ggml_metal_init: skipping kernel_get_rows_bf16                     (not supported)\n",
      "ggml_metal_init: skipping kernel_mul_mv_bf16_f32                   (not supported)\n",
      "ggml_metal_init: skipping kernel_mul_mv_bf16_f32_1row              (not supported)\n",
      "ggml_metal_init: skipping kernel_mul_mv_bf16_f32_l4                (not supported)\n",
      "ggml_metal_init: skipping kernel_mul_mv_bf16_bf16                  (not supported)\n",
      "ggml_metal_init: skipping kernel_mul_mv_id_bf16_f32                (not supported)\n",
      "ggml_metal_init: skipping kernel_mul_mm_bf16_f32                   (not supported)\n",
      "ggml_metal_init: skipping kernel_mul_mm_id_bf16_f32                (not supported)\n",
      "ggml_metal_init: skipping kernel_flash_attn_ext_bf16_h64           (not supported)\n",
      "ggml_metal_init: skipping kernel_flash_attn_ext_bf16_h80           (not supported)\n",
      "ggml_metal_init: skipping kernel_flash_attn_ext_bf16_h96           (not supported)\n",
      "ggml_metal_init: skipping kernel_flash_attn_ext_bf16_h112          (not supported)\n",
      "ggml_metal_init: skipping kernel_flash_attn_ext_bf16_h128          (not supported)\n",
      "ggml_metal_init: skipping kernel_flash_attn_ext_bf16_h256          (not supported)\n",
      "ggml_metal_init: skipping kernel_flash_attn_ext_vec_bf16_h128      (not supported)\n",
      "ggml_metal_init: skipping kernel_flash_attn_ext_vec_bf16_h256      (not supported)\n",
      "ggml_metal_init: skipping kernel_cpy_f32_bf16                      (not supported)\n",
      "ggml_metal_init: skipping kernel_cpy_bf16_f32                      (not supported)\n",
      "ggml_metal_init: skipping kernel_cpy_bf16_bf16                     (not supported)\n"
     ]
    },
    {
     "name": "stdout",
     "output_type": "stream",
     "text": [
      "  Running with max tokens: 50\n",
      "{'latency': 1.3070688247680664, 'throughput': 13.006201110348245, 'max_ram': 1.2251434326171875, 'accuracy': 2.8333333333333335}\n",
      "  Running with max tokens: 100\n",
      "{'latency': 0.2666940689086914, 'throughput': 59.99383512903675, 'max_ram': 1.1796722412109375, 'accuracy': 2.6666666666666665}\n",
      "  Running with max tokens: 250\n",
      "{'latency': 0.2932560443878174, 'throughput': 57.969819634879535, 'max_ram': 1.1798095703125, 'accuracy': 2.8333333333333335}\n",
      "  Running with max tokens: 500\n",
      "{'latency': 0.2812838554382324, 'throughput': 56.88204171928903, 'max_ram': 1.1815948486328125, 'accuracy': 2.6666666666666665}\n",
      "  Running with max tokens: 1000\n",
      "{'latency': 0.2927968502044678, 'throughput': 58.06073387786942, 'max_ram': 1.18182373046875, 'accuracy': 2.8333333333333335}\n",
      "\n",
      "Testing model: Qwen/Qwen2-7B-Instruct-GGUF\n"
     ]
    },
    {
     "name": "stderr",
     "output_type": "stream",
     "text": [
      "llama_init_from_model: n_ctx_per_seq (512) < n_ctx_train (32768) -- the full capacity of the model will not be utilized\n",
      "ggml_metal_init: skipping kernel_get_rows_bf16                     (not supported)\n",
      "ggml_metal_init: skipping kernel_mul_mv_bf16_f32                   (not supported)\n",
      "ggml_metal_init: skipping kernel_mul_mv_bf16_f32_1row              (not supported)\n",
      "ggml_metal_init: skipping kernel_mul_mv_bf16_f32_l4                (not supported)\n",
      "ggml_metal_init: skipping kernel_mul_mv_bf16_bf16                  (not supported)\n",
      "ggml_metal_init: skipping kernel_mul_mv_id_bf16_f32                (not supported)\n",
      "ggml_metal_init: skipping kernel_mul_mm_bf16_f32                   (not supported)\n",
      "ggml_metal_init: skipping kernel_mul_mm_id_bf16_f32                (not supported)\n",
      "ggml_metal_init: skipping kernel_flash_attn_ext_bf16_h64           (not supported)\n",
      "ggml_metal_init: skipping kernel_flash_attn_ext_bf16_h80           (not supported)\n",
      "ggml_metal_init: skipping kernel_flash_attn_ext_bf16_h96           (not supported)\n",
      "ggml_metal_init: skipping kernel_flash_attn_ext_bf16_h112          (not supported)\n",
      "ggml_metal_init: skipping kernel_flash_attn_ext_bf16_h128          (not supported)\n",
      "ggml_metal_init: skipping kernel_flash_attn_ext_bf16_h256          (not supported)\n",
      "ggml_metal_init: skipping kernel_flash_attn_ext_vec_bf16_h128      (not supported)\n",
      "ggml_metal_init: skipping kernel_flash_attn_ext_vec_bf16_h256      (not supported)\n",
      "ggml_metal_init: skipping kernel_cpy_f32_bf16                      (not supported)\n",
      "ggml_metal_init: skipping kernel_cpy_bf16_f32                      (not supported)\n",
      "ggml_metal_init: skipping kernel_cpy_bf16_bf16                     (not supported)\n"
     ]
    },
    {
     "name": "stdout",
     "output_type": "stream",
     "text": [
      "  Running with max tokens: 50\n",
      "{'latency': 4.8487389087677, 'throughput': 3.5060662823605253, 'max_ram': 4.1511077880859375, 'accuracy': 2.8333333333333335}\n",
      "  Running with max tokens: 100\n",
      "{'latency': 1.01888108253479, 'throughput': 16.684969709818446, 'max_ram': 4.1476287841796875, 'accuracy': 2.8333333333333335}\n",
      "  Running with max tokens: 250\n",
      "{'latency': 1.025998830795288, 'throughput': 16.569219661607896, 'max_ram': 4.1506500244140625, 'accuracy': 2.8333333333333335}\n",
      "  Running with max tokens: 500\n",
      "{'latency': 1.0183849334716797, 'throughput': 16.693098494738045, 'max_ram': 4.152801513671875, 'accuracy': 2.8333333333333335}\n",
      "  Running with max tokens: 1000\n",
      "{'latency': 0.9887049198150635, 'throughput': 17.19420998044577, 'max_ram': 4.1533660888671875, 'accuracy': 2.8333333333333335}\n",
      "\n",
      "Final Results:\n",
      "{'model': 'MaziyarPanahi/Llama-3.2-1B-Instruct-GGUF', 'latency': 1.021738052368164, 'throughput': 16.638315427910058, 'max_ram': 1.1270599365234375, 'accuracy': 2.8333333333333335}\n",
      "{'model': 'MaziyarPanahi/Llama-3.2-1B-Instruct-GGUF', 'latency': 0.2308661937713623, 'throughput': 73.63572692169865, 'max_ram': 1.12896728515625, 'accuracy': 2.8333333333333335}\n",
      "{'model': 'MaziyarPanahi/Llama-3.2-1B-Instruct-GGUF', 'latency': 0.23482012748718262, 'throughput': 72.39583838880219, 'max_ram': 1.130523681640625, 'accuracy': 2.8333333333333335}\n",
      "{'model': 'MaziyarPanahi/Llama-3.2-1B-Instruct-GGUF', 'latency': 0.2342391014099121, 'throughput': 72.57541502539517, 'max_ram': 1.13055419921875, 'accuracy': 2.8333333333333335}\n",
      "{'model': 'MaziyarPanahi/Llama-3.2-1B-Instruct-GGUF', 'latency': 0.2314600944519043, 'throughput': 73.4467858930753, 'max_ram': 1.13055419921875, 'accuracy': 2.8333333333333335}\n",
      "{'model': 'bartowski/Llama-3.2-3B-Instruct-GGUF', 'latency': 2.2254068851470947, 'throughput': 7.63905248674394, 'max_ram': 2.161407470703125, 'accuracy': 2.8333333333333335}\n",
      "{'model': 'bartowski/Llama-3.2-3B-Instruct-GGUF', 'latency': 0.5209472179412842, 'throughput': 32.632864548507996, 'max_ram': 2.161895751953125, 'accuracy': 2.8333333333333335}\n",
      "{'model': 'bartowski/Llama-3.2-3B-Instruct-GGUF', 'latency': 0.5021388530731201, 'throughput': 33.855177499129915, 'max_ram': 2.16192626953125, 'accuracy': 2.8333333333333335}\n",
      "{'model': 'bartowski/Llama-3.2-3B-Instruct-GGUF', 'latency': 0.48175692558288574, 'throughput': 35.287505165455414, 'max_ram': 2.161773681640625, 'accuracy': 2.8333333333333335}\n",
      "{'model': 'bartowski/Llama-3.2-3B-Instruct-GGUF', 'latency': 0.48558902740478516, 'throughput': 35.00902829467945, 'max_ram': 2.161773681640625, 'accuracy': 2.8333333333333335}\n",
      "{'model': 'bartowski/Meta-Llama-3.1-8B-Instruct-GGUF', 'latency': 4.635629892349243, 'throughput': 3.667247039729642, 'max_ram': 4.4509124755859375, 'accuracy': 2.8333333333333335}\n",
      "{'model': 'bartowski/Meta-Llama-3.1-8B-Instruct-GGUF', 'latency': 1.0599491596221924, 'throughput': 16.03850509779117, 'max_ram': 4.4394378662109375, 'accuracy': 2.8333333333333335}\n",
      "{'model': 'bartowski/Meta-Llama-3.1-8B-Instruct-GGUF', 'latency': 1.0653948783874512, 'throughput': 15.956524988866734, 'max_ram': 4.4354705810546875, 'accuracy': 2.8333333333333335}\n",
      "{'model': 'bartowski/Meta-Llama-3.1-8B-Instruct-GGUF', 'latency': 1.2351281642913818, 'throughput': 13.7637538285375, 'max_ram': 4.4061737060546875, 'accuracy': 2.8333333333333335}\n",
      "{'model': 'bartowski/Meta-Llama-3.1-8B-Instruct-GGUF', 'latency': 0.9801740646362305, 'throughput': 17.343858211866856, 'max_ram': 4.4109039306640625, 'accuracy': 2.8333333333333335}\n",
      "{'model': 'Qwen/Qwen2-1.5B-Instruct-GGUF', 'latency': 1.3070688247680664, 'throughput': 13.006201110348245, 'max_ram': 1.2251434326171875, 'accuracy': 2.8333333333333335}\n",
      "{'model': 'Qwen/Qwen2-1.5B-Instruct-GGUF', 'latency': 0.2666940689086914, 'throughput': 59.99383512903675, 'max_ram': 1.1796722412109375, 'accuracy': 2.6666666666666665}\n",
      "{'model': 'Qwen/Qwen2-1.5B-Instruct-GGUF', 'latency': 0.2932560443878174, 'throughput': 57.969819634879535, 'max_ram': 1.1798095703125, 'accuracy': 2.8333333333333335}\n",
      "{'model': 'Qwen/Qwen2-1.5B-Instruct-GGUF', 'latency': 0.2812838554382324, 'throughput': 56.88204171928903, 'max_ram': 1.1815948486328125, 'accuracy': 2.6666666666666665}\n",
      "{'model': 'Qwen/Qwen2-1.5B-Instruct-GGUF', 'latency': 0.2927968502044678, 'throughput': 58.06073387786942, 'max_ram': 1.18182373046875, 'accuracy': 2.8333333333333335}\n",
      "{'model': 'Qwen/Qwen2-7B-Instruct-GGUF', 'latency': 4.8487389087677, 'throughput': 3.5060662823605253, 'max_ram': 4.1511077880859375, 'accuracy': 2.8333333333333335}\n",
      "{'model': 'Qwen/Qwen2-7B-Instruct-GGUF', 'latency': 1.01888108253479, 'throughput': 16.684969709818446, 'max_ram': 4.1476287841796875, 'accuracy': 2.8333333333333335}\n",
      "{'model': 'Qwen/Qwen2-7B-Instruct-GGUF', 'latency': 1.025998830795288, 'throughput': 16.569219661607896, 'max_ram': 4.1506500244140625, 'accuracy': 2.8333333333333335}\n",
      "{'model': 'Qwen/Qwen2-7B-Instruct-GGUF', 'latency': 1.0183849334716797, 'throughput': 16.693098494738045, 'max_ram': 4.152801513671875, 'accuracy': 2.8333333333333335}\n",
      "{'model': 'Qwen/Qwen2-7B-Instruct-GGUF', 'latency': 0.9887049198150635, 'throughput': 17.19420998044577, 'max_ram': 4.1533660888671875, 'accuracy': 2.8333333333333335}\n"
     ]
    }
   ],
   "source": [
    "max_tokens_list = [50, 100, 250, 500, 1000]  # Different max token values\n",
    "args_base = {\"prompt\": \"What is the capital of France?\", \"auth\": \"access token\"}\n",
    "\n",
    "results = []\n",
    "\n",
    "for model in models:\n",
    "    print(f\"\\nTesting model: {model['repo_id']}\")\n",
    "    cpu_model = CPUModel(model)\n",
    "    \n",
    "    for max_tokens in max_tokens_list:\n",
    "        args = args_base.copy()\n",
    "        args[\"max_tokens\"] = max_tokens  # Set max tokens for this run\n",
    "        \n",
    "        print(f\"  Running with max tokens: {max_tokens}\")\n",
    "        result = cpu_model.evaluate(args)\n",
    "        results.append({\"model\": model['repo_id'], **result})\n",
    "        print(result)\n",
    "\n",
    "print(\"\\nFinal Results:\")\n",
    "for res in results:\n",
    "    print(res)"
   ]
  },
  {
   "cell_type": "code",
   "execution_count": null,
   "id": "6c000b3f-7939-483a-aad3-e3022b0552cb",
   "metadata": {},
   "outputs": [],
   "source": []
  }
 ],
 "metadata": {
  "kernelspec": {
   "display_name": "Python 3 (ipykernel)",
   "language": "python",
   "name": "python3"
  },
  "language_info": {
   "codemirror_mode": {
    "name": "ipython",
    "version": 3
   },
   "file_extension": ".py",
   "mimetype": "text/x-python",
   "name": "python",
   "nbconvert_exporter": "python",
   "pygments_lexer": "ipython3",
   "version": "3.11.7"
  }
 },
 "nbformat": 4,
 "nbformat_minor": 5
}
